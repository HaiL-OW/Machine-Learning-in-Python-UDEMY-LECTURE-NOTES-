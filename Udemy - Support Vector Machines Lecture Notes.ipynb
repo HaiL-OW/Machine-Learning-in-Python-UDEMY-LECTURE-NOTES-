{
 "cells": [
  {
   "cell_type": "markdown",
   "id": "f45460b1-5f6e-43ed-a6d5-f93747e07626",
   "metadata": {},
   "source": [
    "## Lecture Notes on Support Vector Machines from JosePortilla_UDEMY - Henric Jandoc"
   ]
  },
  {
   "cell_type": "code",
   "execution_count": null,
   "id": "e080e2de-f0ad-4aba-903f-379911c64f41",
   "metadata": {},
   "outputs": [],
   "source": []
  },
  {
   "cell_type": "code",
   "execution_count": null,
   "id": "c96dfdd8-6d9a-4ba6-8186-5025622d668a",
   "metadata": {},
   "outputs": [],
   "source": []
  }
 ],
 "metadata": {
  "kernelspec": {
   "display_name": "Python 3",
   "language": "python",
   "name": "python3"
  },
  "language_info": {
   "codemirror_mode": {
    "name": "ipython",
    "version": 3
   },
   "file_extension": ".py",
   "mimetype": "text/x-python",
   "name": "python",
   "nbconvert_exporter": "python",
   "pygments_lexer": "ipython3",
   "version": "3.8.8"
  }
 },
 "nbformat": 4,
 "nbformat_minor": 5
}
